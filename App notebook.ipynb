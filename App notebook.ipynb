{
 "cells": [
  {
   "cell_type": "code",
   "execution_count": 1,
   "metadata": {},
   "outputs": [],
   "source": [
    "#dependencies\n",
    "import os\n",
    "import pandas as pd\n",
    "import numpy as np\n",
    "import sqlite3\n",
    "import sqlalchemy\n",
    "from sqlalchemy.ext.automap import automap_base\n",
    "from sqlalchemy.orm import Session\n",
    "from sqlalchemy import create_engine\n",
    "from flask import Flask, jsonify, render_template\n",
    "from flask_sqlalchemy import SQLAlchemy"
   ]
  },
  {
   "cell_type": "code",
   "execution_count": 2,
   "metadata": {},
   "outputs": [],
   "source": [
    "#Setup database\n",
    "app = Flask(__name__)\n",
    "# app.config[\"SQLALCHEMY_DATABASE_URI\"] = \"sqlite:///ffdb\"\n",
    "# db = SQLAlchemy(app)\n",
    "ffdb = sqlite3.connect('ffdb')\n",
    "\n",
    "# Pull data from database into a local variable\n",
    "# This would be really unacceptable if our database wasn't basically a tiny little spreadsheet\n",
    "# If complexity increased, it would be very reasonable to tailor select statements to specific requests inside of the functions I call below\n",
    "cursor = ffdb.cursor()\n",
    "cursor.execute('''\n",
    "    SELECT * from fire\n",
    "''')\n",
    "data = cursor.fetchall()"
   ]
  },
  {
   "cell_type": "code",
   "execution_count": null,
   "metadata": {},
   "outputs": [
    {
     "name": "stdout",
     "output_type": "stream",
     "text": [
      " * Serving Flask app \"__main__\" (lazy loading)\n",
      " * Environment: production\n",
      "   WARNING: This is a development server. Do not use it in a production deployment.\n",
      "   Use a production WSGI server instead.\n",
      " * Debug mode: off\n"
     ]
    },
    {
     "name": "stderr",
     "output_type": "stream",
     "text": [
      " * Running on http://127.0.0.1:5000/ (Press CTRL+C to quit)\n",
      "127.0.0.1 - - [12/Dec/2019 19:02:13] \"GET / HTTP/1.1\" 200 -\n",
      "127.0.0.1 - - [12/Dec/2019 19:02:14] \"GET /states HTTP/1.1\" 200 -\n",
      "127.0.0.1 - - [12/Dec/2019 19:02:14] \"GET /state_data/Acre HTTP/1.1\" 200 -\n"
     ]
    },
    {
     "name": "stdout",
     "output_type": "stream",
     "text": [
      "{0: {'year': 1998, 'state': 'Acre', 'month': 'Janeiro', 'number': 0.0, 'date': '1998-01-01'}, 1: {'year': 1999, 'state': 'Acre', 'month': 'Janeiro', 'number': 0.0, 'date': '1999-01-01'}, 2: {'year': 2000, 'state': 'Acre', 'month': 'Janeiro', 'number': 0.0, 'date': '2000-01-01'}, 3: {'year': 2001, 'state': 'Acre', 'month': 'Janeiro', 'number': 0.0, 'date': '2001-01-01'}, 4: {'year': 2002, 'state': 'Acre', 'month': 'Janeiro', 'number': 0.0, 'date': '2002-01-01'}, 5: {'year': 2003, 'state': 'Acre', 'month': 'Janeiro', 'number': 10.0, 'date': '2003-01-01'}, 6: {'year': 2004, 'state': 'Acre', 'month': 'Janeiro', 'number': 0.0, 'date': '2004-01-01'}, 7: {'year': 2005, 'state': 'Acre', 'month': 'Janeiro', 'number': 12.0, 'date': '2005-01-01'}, 8: {'year': 2006, 'state': 'Acre', 'month': 'Janeiro', 'number': 4.0, 'date': '2006-01-01'}, 9: {'year': 2007, 'state': 'Acre', 'month': 'Janeiro', 'number': 0.0, 'date': '2007-01-01'}, 10: {'year': 2008, 'state': 'Acre', 'month': 'Janeiro', 'number': 0.0, 'date': '2008-01-01'}, 11: {'year': 2009, 'state': 'Acre', 'month': 'Janeiro', 'number': 0.0, 'date': '2009-01-01'}, 12: {'year': 2010, 'state': 'Acre', 'month': 'Janeiro', 'number': 1.0, 'date': '2010-01-01'}, 13: {'year': 2011, 'state': 'Acre', 'month': 'Janeiro', 'number': 0.0, 'date': '2011-01-01'}, 14: {'year': 2012, 'state': 'Acre', 'month': 'Janeiro', 'number': 0.0, 'date': '2012-01-01'}, 15: {'year': 2013, 'state': 'Acre', 'month': 'Janeiro', 'number': 0.0, 'date': '2013-01-01'}, 16: {'year': 2014, 'state': 'Acre', 'month': 'Janeiro', 'number': 0.0, 'date': '2014-01-01'}, 17: {'year': 2015, 'state': 'Acre', 'month': 'Janeiro', 'number': 1.0, 'date': '2015-01-01'}, 18: {'year': 2016, 'state': 'Acre', 'month': 'Janeiro', 'number': 12.0, 'date': '2016-01-01'}, 19: {'year': 2017, 'state': 'Acre', 'month': 'Janeiro', 'number': 0.0, 'date': '2017-01-01'}, 20: {'year': 1998, 'state': 'Acre', 'month': 'Fevereiro', 'number': 0.0, 'date': '1998-01-01'}, 21: {'year': 1999, 'state': 'Acre', 'month': 'Fevereiro', 'number': 0.0, 'date': '1999-01-01'}, 22: {'year': 2000, 'state': 'Acre', 'month': 'Fevereiro', 'number': 0.0, 'date': '2000-01-01'}, 23: {'year': 2001, 'state': 'Acre', 'month': 'Fevereiro', 'number': 0.0, 'date': '2001-01-01'}, 24: {'year': 2002, 'state': 'Acre', 'month': 'Fevereiro', 'number': 1.0, 'date': '2002-01-01'}, 25: {'year': 2003, 'state': 'Acre', 'month': 'Fevereiro', 'number': 0.0, 'date': '2003-01-01'}, 26: {'year': 2004, 'state': 'Acre', 'month': 'Fevereiro', 'number': 3.0, 'date': '2004-01-01'}, 27: {'year': 2005, 'state': 'Acre', 'month': 'Fevereiro', 'number': 0.0, 'date': '2005-01-01'}, 28: {'year': 2006, 'state': 'Acre', 'month': 'Fevereiro', 'number': 0.0, 'date': '2006-01-01'}, 29: {'year': 2007, 'state': 'Acre', 'month': 'Fevereiro', 'number': 5.0, 'date': '2007-01-01'}, 30: {'year': 2008, 'state': 'Acre', 'month': 'Fevereiro', 'number': 0.0, 'date': '2008-01-01'}, 31: {'year': 2009, 'state': 'Acre', 'month': 'Fevereiro', 'number': 2.0, 'date': '2009-01-01'}, 32: {'year': 2010, 'state': 'Acre', 'month': 'Fevereiro', 'number': 0.0, 'date': '2010-01-01'}, 33: {'year': 2011, 'state': 'Acre', 'month': 'Fevereiro', 'number': 0.0, 'date': '2011-01-01'}, 34: {'year': 2012, 'state': 'Acre', 'month': 'Fevereiro', 'number': 0.0, 'date': '2012-01-01'}, 35: {'year': 2013, 'state': 'Acre', 'month': 'Fevereiro', 'number': 0.0, 'date': '2013-01-01'}, 36: {'year': 2014, 'state': 'Acre', 'month': 'Fevereiro', 'number': 0.0, 'date': '2014-01-01'}, 37: {'year': 2015, 'state': 'Acre', 'month': 'Fevereiro', 'number': 2.0, 'date': '2015-01-01'}, 38: {'year': 2016, 'state': 'Acre', 'month': 'Fevereiro', 'number': 5.0, 'date': '2016-01-01'}, 39: {'year': 2017, 'state': 'Acre', 'month': 'Fevereiro', 'number': 1.0, 'date': '2017-01-01'}, 40: {'year': 1998, 'state': 'Acre', 'month': 'Março', 'number': 0.0, 'date': '1998-01-01'}, 41: {'year': 1999, 'state': 'Acre', 'month': 'Março', 'number': 0.0, 'date': '1999-01-01'}, 42: {'year': 2000, 'state': 'Acre', 'month': 'Março', 'number': 11.0, 'date': '2000-01-01'}, 43: {'year': 2001, 'state': 'Acre', 'month': 'Março', 'number': 0.0, 'date': '2001-01-01'}, 44: {'year': 2002, 'state': 'Acre', 'month': 'Março', 'number': 0.0, 'date': '2002-01-01'}, 45: {'year': 2003, 'state': 'Acre', 'month': 'Março', 'number': 0.0, 'date': '2003-01-01'}, 46: {'year': 2004, 'state': 'Acre', 'month': 'Março', 'number': 0.0, 'date': '2004-01-01'}, 47: {'year': 2005, 'state': 'Acre', 'month': 'Março', 'number': 3.0, 'date': '2005-01-01'}, 48: {'year': 2006, 'state': 'Acre', 'month': 'Março', 'number': 0.0, 'date': '2006-01-01'}, 49: {'year': 2007, 'state': 'Acre', 'month': 'Março', 'number': 2.0, 'date': '2007-01-01'}, 50: {'year': 2008, 'state': 'Acre', 'month': 'Março', 'number': 0.0, 'date': '2008-01-01'}, 51: {'year': 2009, 'state': 'Acre', 'month': 'Março', 'number': 1.0, 'date': '2009-01-01'}, 52: {'year': 2010, 'state': 'Acre', 'month': 'Março', 'number': 0.0, 'date': '2010-01-01'}, 53: {'year': 2011, 'state': 'Acre', 'month': 'Março', 'number': 0.0, 'date': '2011-01-01'}, 54: {'year': 2012, 'state': 'Acre', 'month': 'Março', 'number': 1.0, 'date': '2012-01-01'}, 55: {'year': 2013, 'state': 'Acre', 'month': 'Março', 'number': 2.0, 'date': '2013-01-01'}, 56: {'year': 2014, 'state': 'Acre', 'month': 'Março', 'number': 1.0, 'date': '2014-01-01'}, 57: {'year': 2015, 'state': 'Acre', 'month': 'Março', 'number': 2.0, 'date': '2015-01-01'}, 58: {'year': 2016, 'state': 'Acre', 'month': 'Março', 'number': 0.0, 'date': '2016-01-01'}, 59: {'year': 2017, 'state': 'Acre', 'month': 'Março', 'number': 0.0, 'date': '2017-01-01'}, 60: {'year': 1998, 'state': 'Acre', 'month': 'Abril', 'number': 0.0, 'date': '1998-01-01'}, 61: {'year': 1999, 'state': 'Acre', 'month': 'Abril', 'number': 0.0, 'date': '1999-01-01'}, 62: {'year': 2000, 'state': 'Acre', 'month': 'Abril', 'number': 1.0, 'date': '2000-01-01'}, 63: {'year': 2001, 'state': 'Acre', 'month': 'Abril', 'number': 0.0, 'date': '2001-01-01'}, 64: {'year': 2002, 'state': 'Acre', 'month': 'Abril', 'number': 0.0, 'date': '2002-01-01'}, 65: {'year': 2003, 'state': 'Acre', 'month': 'Abril', 'number': 1.0, 'date': '2003-01-01'}, 66: {'year': 2004, 'state': 'Acre', 'month': 'Abril', 'number': 2.0, 'date': '2004-01-01'}, 67: {'year': 2005, 'state': 'Acre', 'month': 'Abril', 'number': 1.0, 'date': '2005-01-01'}, 68: {'year': 2006, 'state': 'Acre', 'month': 'Abril', 'number': 0.0, 'date': '2006-01-01'}, 69: {'year': 2007, 'state': 'Acre', 'month': 'Abril', 'number': 0.0, 'date': '2007-01-01'}, 70: {'year': 2008, 'state': 'Acre', 'month': 'Abril', 'number': 0.0, 'date': '2008-01-01'}, 71: {'year': 2009, 'state': 'Acre', 'month': 'Abril', 'number': 0.0, 'date': '2009-01-01'}, 72: {'year': 2010, 'state': 'Acre', 'month': 'Abril', 'number': 3.0, 'date': '2010-01-01'}, 73: {'year': 2011, 'state': 'Acre', 'month': 'Abril', 'number': 2.0, 'date': '2011-01-01'}, 74: {'year': 2012, 'state': 'Acre', 'month': 'Abril', 'number': 1.0, 'date': '2012-01-01'}, 75: {'year': 2013, 'state': 'Acre', 'month': 'Abril', 'number': 19.0, 'date': '2013-01-01'}, 76: {'year': 2014, 'state': 'Acre', 'month': 'Abril', 'number': 7.0, 'date': '2014-01-01'}, 77: {'year': 2015, 'state': 'Acre', 'month': 'Abril', 'number': 3.0, 'date': '2015-01-01'}, 78: {'year': 2016, 'state': 'Acre', 'month': 'Abril', 'number': 0.0, 'date': '2016-01-01'}, 79: {'year': 2017, 'state': 'Acre', 'month': 'Abril', 'number': 1.0, 'date': '2017-01-01'}, 80: {'year': 1998, 'state': 'Acre', 'month': 'Maio', 'number': 0.0, 'date': '1998-01-01'}, 81: {'year': 1999, 'state': 'Acre', 'month': 'Maio', 'number': 0.0, 'date': '1999-01-01'}, 82: {'year': 2000, 'state': 'Acre', 'month': 'Maio', 'number': 1.0, 'date': '2000-01-01'}, 83: {'year': 2001, 'state': 'Acre', 'month': 'Maio', 'number': 0.0, 'date': '2001-01-01'}, 84: {'year': 2002, 'state': 'Acre', 'month': 'Maio', 'number': 0.0, 'date': '2002-01-01'}, 85: {'year': 2003, 'state': 'Acre', 'month': 'Maio', 'number': 6.0, 'date': '2003-01-01'}, 86: {'year': 2004, 'state': 'Acre', 'month': 'Maio', 'number': 7.0, 'date': '2004-01-01'}, 87: {'year': 2005, 'state': 'Acre', 'month': 'Maio', 'number': 2.0, 'date': '2005-01-01'}, 88: {'year': 2006, 'state': 'Acre', 'month': 'Maio', 'number': 8.0, 'date': '2006-01-01'}, 89: {'year': 2007, 'state': 'Acre', 'month': 'Maio', 'number': 1.0, 'date': '2007-01-01'}, 90: {'year': 2008, 'state': 'Acre', 'month': 'Maio', 'number': 0.0, 'date': '2008-01-01'}, 91: {'year': 2009, 'state': 'Acre', 'month': 'Maio', 'number': 3.0, 'date': '2009-01-01'}, 92: {'year': 2010, 'state': 'Acre', 'month': 'Maio', 'number': 9.0, 'date': '2010-01-01'}, 93: {'year': 2011, 'state': 'Acre', 'month': 'Maio', 'number': 3.0, 'date': '2011-01-01'}, 94: {'year': 2012, 'state': 'Acre', 'month': 'Maio', 'number': 3.0, 'date': '2012-01-01'}, 95: {'year': 2013, 'state': 'Acre', 'month': 'Maio', 'number': 4.0, 'date': '2013-01-01'}, 96: {'year': 2014, 'state': 'Acre', 'month': 'Maio', 'number': 1.0, 'date': '2014-01-01'}, 97: {'year': 2015, 'state': 'Acre', 'month': 'Maio', 'number': 2.0, 'date': '2015-01-01'}, 98: {'year': 2016, 'state': 'Acre', 'month': 'Maio', 'number': 21.0, 'date': '2016-01-01'}, 99: {'year': 2017, 'state': 'Acre', 'month': 'Maio', 'number': 10.0, 'date': '2017-01-01'}, 100: {'year': 1998, 'state': 'Acre', 'month': 'Junho', 'number': 3.0, 'date': '1998-01-01'}, 101: {'year': 1999, 'state': 'Acre', 'month': 'Junho', 'number': 0.0, 'date': '1999-01-01'}, 102: {'year': 2000, 'state': 'Acre', 'month': 'Junho', 'number': 1.0, 'date': '2000-01-01'}, 103: {'year': 2001, 'state': 'Acre', 'month': 'Junho', 'number': 1.0, 'date': '2001-01-01'}, 104: {'year': 2002, 'state': 'Acre', 'month': 'Junho', 'number': 0.0, 'date': '2002-01-01'}, 105: {'year': 2003, 'state': 'Acre', 'month': 'Junho', 'number': 0.0, 'date': '2003-01-01'}, 106: {'year': 2004, 'state': 'Acre', 'month': 'Junho', 'number': 5.0, 'date': '2004-01-01'}, 107: {'year': 2005, 'state': 'Acre', 'month': 'Junho', 'number': 27.0, 'date': '2005-01-01'}, 108: {'year': 2006, 'state': 'Acre', 'month': 'Junho', 'number': 1.0, 'date': '2006-01-01'}, 109: {'year': 2007, 'state': 'Acre', 'month': 'Junho', 'number': 4.0, 'date': '2007-01-01'}, 110: {'year': 2008, 'state': 'Acre', 'month': 'Junho', 'number': 0.0, 'date': '2008-01-01'}, 111: {'year': 2009, 'state': 'Acre', 'month': 'Junho', 'number': 0.0, 'date': '2009-01-01'}, 112: {'year': 2010, 'state': 'Acre', 'month': 'Junho', 'number': 1.0, 'date': '2010-01-01'}, 113: {'year': 2011, 'state': 'Acre', 'month': 'Junho', 'number': 10.0, 'date': '2011-01-01'}, 114: {'year': 2012, 'state': 'Acre', 'month': 'Junho', 'number': 7.0, 'date': '2012-01-01'}, 115: {'year': 2013, 'state': 'Acre', 'month': 'Junho', 'number': 8.0, 'date': '2013-01-01'}, 116: {'year': 2014, 'state': 'Acre', 'month': 'Junho', 'number': 17.0, 'date': '2014-01-01'}, 117: {'year': 2015, 'state': 'Acre', 'month': 'Junho', 'number': 40.0, 'date': '2015-01-01'}, 118: {'year': 2016, 'state': 'Acre', 'month': 'Junho', 'number': 87.0, 'date': '2016-01-01'}, 119: {'year': 2017, 'state': 'Acre', 'month': 'Junho', 'number': 45.0, 'date': '2017-01-01'}, 120: {'year': 1998, 'state': 'Acre', 'month': 'Julho', 'number': 37.0, 'date': '1998-01-01'}, 121: {'year': 1999, 'state': 'Acre', 'month': 'Julho', 'number': 1.0, 'date': '1999-01-01'}, 122: {'year': 2000, 'state': 'Acre', 'month': 'Julho', 'number': 1.0, 'date': '2000-01-01'}, 123: {'year': 2001, 'state': 'Acre', 'month': 'Julho', 'number': 3.0, 'date': '2001-01-01'}, 124: {'year': 2002, 'state': 'Acre', 'month': 'Julho', 'number': 39.0, 'date': '2002-01-01'}, 125: {'year': 2003, 'state': 'Acre', 'month': 'Julho', 'number': 168.0, 'date': '2003-01-01'}, 126: {'year': 2004, 'state': 'Acre', 'month': 'Julho', 'number': 42.0, 'date': '2004-01-01'}, 127: {'year': 2005, 'state': 'Acre', 'month': 'Julho', 'number': 368.0, 'date': '2005-01-01'}, 128: {'year': 2006, 'state': 'Acre', 'month': 'Julho', 'number': 33.0, 'date': '2006-01-01'}, 129: {'year': 2007, 'state': 'Acre', 'month': 'Julho', 'number': 29.0, 'date': '2007-01-01'}, 130: {'year': 2008, 'state': 'Acre', 'month': 'Julho', 'number': 41.0, 'date': '2008-01-01'}, 131: {'year': 2009, 'state': 'Acre', 'month': 'Julho', 'number': 31.0, 'date': '2009-01-01'}, 132: {'year': 2010, 'state': 'Acre', 'month': 'Julho', 'number': 126.0, 'date': '2010-01-01'}, 133: {'year': 2011, 'state': 'Acre', 'month': 'Julho', 'number': 93.0, 'date': '2011-01-01'}, 134: {'year': 2012, 'state': 'Acre', 'month': 'Julho', 'number': 71.0, 'date': '2012-01-01'}, 135: {'year': 2013, 'state': 'Acre', 'month': 'Julho', 'number': 54.0, 'date': '2013-01-01'}, 136: {'year': 2014, 'state': 'Acre', 'month': 'Julho', 'number': 60.0, 'date': '2014-01-01'}, 137: {'year': 2015, 'state': 'Acre', 'month': 'Julho', 'number': 109.0, 'date': '2015-01-01'}, 138: {'year': 2016, 'state': 'Acre', 'month': 'Julho', 'number': 533.0, 'date': '2016-01-01'}, 139: {'year': 2017, 'state': 'Acre', 'month': 'Julho', 'number': 457.0, 'date': '2017-01-01'}, 140: {'year': 1998, 'state': 'Acre', 'month': 'Agosto', 'number': 130.0, 'date': '1998-01-01'}, 141: {'year': 1999, 'state': 'Acre', 'month': 'Agosto', 'number': 63.0, 'date': '1999-01-01'}, 142: {'year': 2000, 'state': 'Acre', 'month': 'Agosto', 'number': 136.0, 'date': '2000-01-01'}, 143: {'year': 2001, 'state': 'Acre', 'month': 'Agosto', 'number': 396.0, 'date': '2001-01-01'}, 144: {'year': 2002, 'state': 'Acre', 'month': 'Agosto', 'number': 728.0, 'date': '2002-01-01'}, 145: {'year': 2003, 'state': 'Acre', 'month': 'Agosto', 'number': 1.976, 'date': '2003-01-01'}, 146: {'year': 2004, 'state': 'Acre', 'month': 'Agosto', 'number': 645.0, 'date': '2004-01-01'}, 147: {'year': 2005, 'state': 'Acre', 'month': 'Agosto', 'number': 4.198, 'date': '2005-01-01'}, 148: {'year': 2006, 'state': 'Acre', 'month': 'Agosto', 'number': 839.0, 'date': '2006-01-01'}, 149: {'year': 2007, 'state': 'Acre', 'month': 'Agosto', 'number': 960.0, 'date': '2007-01-01'}, 150: {'year': 2008, 'state': 'Acre', 'month': 'Agosto', 'number': 445.0, 'date': '2008-01-01'}, 151: {'year': 2009, 'state': 'Acre', 'month': 'Agosto', 'number': 194.0, 'date': '2009-01-01'}, 152: {'year': 2010, 'state': 'Acre', 'month': 'Agosto', 'number': 1.682, 'date': '2010-01-01'}, 153: {'year': 2011, 'state': 'Acre', 'month': 'Agosto', 'number': 425.0, 'date': '2011-01-01'}, 154: {'year': 2012, 'state': 'Acre', 'month': 'Agosto', 'number': 739.0, 'date': '2012-01-01'}, 155: {'year': 2013, 'state': 'Acre', 'month': 'Agosto', 'number': 679.0, 'date': '2013-01-01'}, 156: {'year': 2014, 'state': 'Acre', 'month': 'Agosto', 'number': 1.1, 'date': '2014-01-01'}, 157: {'year': 2015, 'state': 'Acre', 'month': 'Agosto', 'number': 1.3969999999999998, 'date': '2015-01-01'}, 158: {'year': 2016, 'state': 'Acre', 'month': 'Agosto', 'number': 2.188, 'date': '2016-01-01'}, 159: {'year': 2017, 'state': 'Acre', 'month': 'Agosto', 'number': 1.493, 'date': '2017-01-01'}, 160: {'year': 1998, 'state': 'Acre', 'month': 'Setembro', 'number': 509.0, 'date': '1998-01-01'}, 161: {'year': 1999, 'state': 'Acre', 'month': 'Setembro', 'number': 209.0, 'date': '1999-01-01'}, 162: {'year': 2000, 'state': 'Acre', 'month': 'Setembro', 'number': 265.0, 'date': '2000-01-01'}, 163: {'year': 2001, 'state': 'Acre', 'month': 'Setembro', 'number': 290.0, 'date': '2001-01-01'}, 164: {'year': 2002, 'state': 'Acre', 'month': 'Setembro', 'number': 1.949, 'date': '2002-01-01'}, 165: {'year': 2003, 'state': 'Acre', 'month': 'Setembro', 'number': 3.9419999999999997, 'date': '2003-01-01'}, 166: {'year': 2004, 'state': 'Acre', 'month': 'Setembro', 'number': 1.9780000000000002, 'date': '2004-01-01'}, 167: {'year': 2005, 'state': 'Acre', 'month': 'Setembro', 'number': 4.253, 'date': '2005-01-01'}, 168: {'year': 2006, 'state': 'Acre', 'month': 'Setembro', 'number': 2.37, 'date': '2006-01-01'}, 169: {'year': 2007, 'state': 'Acre', 'month': 'Setembro', 'number': 2.08, 'date': '2007-01-01'}, 170: {'year': 2008, 'state': 'Acre', 'month': 'Setembro', 'number': 1.666, 'date': '2008-01-01'}, 171: {'year': 2009, 'state': 'Acre', 'month': 'Setembro', 'number': 1.265, 'date': '2009-01-01'}, 172: {'year': 2010, 'state': 'Acre', 'month': 'Setembro', 'number': 2.531, 'date': '2010-01-01'}, 173: {'year': 2011, 'state': 'Acre', 'month': 'Setembro', 'number': 1.204, 'date': '2011-01-01'}, 174: {'year': 2012, 'state': 'Acre', 'month': 'Setembro', 'number': 1.996, 'date': '2012-01-01'}, 175: {'year': 2013, 'state': 'Acre', 'month': 'Setembro', 'number': 2.136, 'date': '2013-01-01'}, 176: {'year': 2014, 'state': 'Acre', 'month': 'Setembro', 'number': 2.175, 'date': '2014-01-01'}, 177: {'year': 2015, 'state': 'Acre', 'month': 'Setembro', 'number': 2.928, 'date': '2015-01-01'}, 178: {'year': 2016, 'state': 'Acre', 'month': 'Setembro', 'number': 3.5860000000000003, 'date': '2016-01-01'}, 179: {'year': 2017, 'state': 'Acre', 'month': 'Setembro', 'number': 3.429, 'date': '2017-01-01'}, 180: {'year': 1998, 'state': 'Acre', 'month': 'Outubro', 'number': 44.0, 'date': '1998-01-01'}, 181: {'year': 1999, 'state': 'Acre', 'month': 'Outubro', 'number': 60.0, 'date': '1999-01-01'}, 182: {'year': 2000, 'state': 'Acre', 'month': 'Outubro', 'number': 18.0, 'date': '2000-01-01'}, 183: {'year': 2001, 'state': 'Acre', 'month': 'Outubro', 'number': 137.0, 'date': '2001-01-01'}, 184: {'year': 2002, 'state': 'Acre', 'month': 'Outubro', 'number': 687.0, 'date': '2002-01-01'}, 185: {'year': 2003, 'state': 'Acre', 'month': 'Outubro', 'number': 740.0, 'date': '2003-01-01'}, 186: {'year': 2004, 'state': 'Acre', 'month': 'Outubro', 'number': 461.0, 'date': '2004-01-01'}, 187: {'year': 2005, 'state': 'Acre', 'month': 'Outubro', 'number': 547.0, 'date': '2005-01-01'}, 188: {'year': 2006, 'state': 'Acre', 'month': 'Outubro', 'number': 316.0, 'date': '2006-01-01'}, 189: {'year': 2007, 'state': 'Acre', 'month': 'Outubro', 'number': 203.0, 'date': '2007-01-01'}, 190: {'year': 2008, 'state': 'Acre', 'month': 'Outubro', 'number': 652.0, 'date': '2008-01-01'}, 191: {'year': 2009, 'state': 'Acre', 'month': 'Outubro', 'number': 565.0, 'date': '2009-01-01'}, 192: {'year': 2010, 'state': 'Acre', 'month': 'Outubro', 'number': 292.0, 'date': '2010-01-01'}, 193: {'year': 2011, 'state': 'Acre', 'month': 'Outubro', 'number': 97.0, 'date': '2011-01-01'}, 194: {'year': 2012, 'state': 'Acre', 'month': 'Outubro', 'number': 348.0, 'date': '2012-01-01'}, 195: {'year': 2013, 'state': 'Acre', 'month': 'Outubro', 'number': 258.0, 'date': '2013-01-01'}, 196: {'year': 2014, 'state': 'Acre', 'month': 'Outubro', 'number': 406.0, 'date': '2014-01-01'}, 197: {'year': 2015, 'state': 'Acre', 'month': 'Outubro', 'number': 905.0, 'date': '2015-01-01'}, 198: {'year': 2016, 'state': 'Acre', 'month': 'Outubro', 'number': 509.0, 'date': '2016-01-01'}, 199: {'year': 2017, 'state': 'Acre', 'month': 'Outubro', 'number': 1.508, 'date': '2017-01-01'}, 200: {'year': 1998, 'state': 'Acre', 'month': 'Novembro', 'number': 0.0, 'date': '1998-01-01'}, 201: {'year': 1999, 'state': 'Acre', 'month': 'Novembro', 'number': 0.0, 'date': '1999-01-01'}, 202: {'year': 2000, 'state': 'Acre', 'month': 'Novembro', 'number': 0.0, 'date': '2000-01-01'}, 203: {'year': 2001, 'state': 'Acre', 'month': 'Novembro', 'number': 1.0, 'date': '2001-01-01'}, 204: {'year': 2002, 'state': 'Acre', 'month': 'Novembro', 'number': 86.0, 'date': '2002-01-01'}, 205: {'year': 2003, 'state': 'Acre', 'month': 'Novembro', 'number': 15.0, 'date': '2003-01-01'}, 206: {'year': 2004, 'state': 'Acre', 'month': 'Novembro', 'number': 10.0, 'date': '2004-01-01'}, 207: {'year': 2005, 'state': 'Acre', 'month': 'Novembro', 'number': 14.0, 'date': '2005-01-01'}, 208: {'year': 2006, 'state': 'Acre', 'month': 'Novembro', 'number': 18.0, 'date': '2006-01-01'}, 209: {'year': 2007, 'state': 'Acre', 'month': 'Novembro', 'number': 7.0, 'date': '2007-01-01'}, 210: {'year': 2008, 'state': 'Acre', 'month': 'Novembro', 'number': 4.0, 'date': '2008-01-01'}, 211: {'year': 2009, 'state': 'Acre', 'month': 'Novembro', 'number': 33.0, 'date': '2009-01-01'}, 212: {'year': 2010, 'state': 'Acre', 'month': 'Novembro', 'number': 39.0, 'date': '2010-01-01'}, 213: {'year': 2011, 'state': 'Acre', 'month': 'Novembro', 'number': 74.0, 'date': '2011-01-01'}, 214: {'year': 2012, 'state': 'Acre', 'month': 'Novembro', 'number': 13.0, 'date': '2012-01-01'}, 215: {'year': 2013, 'state': 'Acre', 'month': 'Novembro', 'number': 79.0, 'date': '2013-01-01'}, 216: {'year': 2014, 'state': 'Acre', 'month': 'Novembro', 'number': 56.0, 'date': '2014-01-01'}, 217: {'year': 2015, 'state': 'Acre', 'month': 'Novembro', 'number': 115.0, 'date': '2015-01-01'}, 218: {'year': 2016, 'state': 'Acre', 'month': 'Novembro', 'number': 46.0, 'date': '2016-01-01'}, 219: {'year': 2017, 'state': 'Acre', 'month': 'Novembro', 'number': 98.0, 'date': '2017-01-01'}, 220: {'year': 1998, 'state': 'Acre', 'month': 'Dezembro', 'number': 7.0, 'date': '1998-01-01'}, 221: {'year': 1999, 'state': 'Acre', 'month': 'Dezembro', 'number': 0.0, 'date': '1999-01-01'}, 222: {'year': 2000, 'state': 'Acre', 'month': 'Dezembro', 'number': 0.0, 'date': '2000-01-01'}, 223: {'year': 2001, 'state': 'Acre', 'month': 'Dezembro', 'number': 0.0, 'date': '2001-01-01'}, 224: {'year': 2002, 'state': 'Acre', 'month': 'Dezembro', 'number': 1.0, 'date': '2002-01-01'}, 225: {'year': 2003, 'state': 'Acre', 'month': 'Dezembro', 'number': 1.0, 'date': '2003-01-01'}, 226: {'year': 2004, 'state': 'Acre', 'month': 'Dezembro', 'number': 7.0, 'date': '2004-01-01'}, 227: {'year': 2005, 'state': 'Acre', 'month': 'Dezembro', 'number': 2.0, 'date': '2005-01-01'}, 228: {'year': 2006, 'state': 'Acre', 'month': 'Dezembro', 'number': 0.0, 'date': '2006-01-01'}, 229: {'year': 2007, 'state': 'Acre', 'month': 'Dezembro', 'number': 0.0, 'date': '2007-01-01'}, 230: {'year': 2008, 'state': 'Acre', 'month': 'Dezembro', 'number': 0.0, 'date': '2008-01-01'}, 231: {'year': 2009, 'state': 'Acre', 'month': 'Dezembro', 'number': 1.0, 'date': '2009-01-01'}, 232: {'year': 2010, 'state': 'Acre', 'month': 'Dezembro', 'number': 0.0, 'date': '2010-01-01'}, 233: {'year': 2011, 'state': 'Acre', 'month': 'Dezembro', 'number': 4.0, 'date': '2011-01-01'}, 234: {'year': 2012, 'state': 'Acre', 'month': 'Dezembro', 'number': 1.0, 'date': '2012-01-01'}, 235: {'year': 2013, 'state': 'Acre', 'month': 'Dezembro', 'number': 3.0, 'date': '2013-01-01'}, 236: {'year': 2014, 'state': 'Acre', 'month': 'Dezembro', 'number': 6.0, 'date': '2014-01-01'}, 237: {'year': 2015, 'state': 'Acre', 'month': 'Dezembro', 'number': 8.0, 'date': '2015-01-01'}, 238: {'year': 2016, 'state': 'Acre', 'month': 'Dezembro', 'number': 6.0, 'date': '2016-01-01'}}\n"
     ]
    }
   ],
   "source": [
    "@app.route(\"/\")\n",
    "def index():\n",
    "    \"\"\"Return the homepage.\"\"\"\n",
    "    return render_template(\"index.html\")\n",
    "\n",
    "\n",
    "@app.route(\"/states\")\n",
    "def states():\n",
    "    \"\"\"Return a list of sample names.\"\"\"\n",
    "    \n",
    "    return jsonify(['Acre', 'Alagoas', 'Amapa', 'Amazonas', 'Bahia', 'Ceara', 'Distrito Federal', 'Espirito Santo', 'Goias', 'Maranhao', 'Mato Grosso', 'Minas Gerais', 'Pará', 'Paraiba', 'Pernambuco', 'Piau', 'Rio', 'Rondonia', 'Roraima', 'Santa Catarina', 'Sao Paulo', 'Sergipe', 'Tocantins'])\n",
    "\n",
    "\n",
    "@app.route(\"/state_data/<state>\")\n",
    "#  def sample_metadata(sample):\n",
    "def state_data(state):\n",
    "   \n",
    "\n",
    "    \"\"\"Return the Data for a given state.\"\"\"\n",
    "    results = []\n",
    "    for x in data:\n",
    "        if x[1] == state:\n",
    "            results.append(x)\n",
    "#     print(results)\n",
    "    \n",
    "\n",
    "\n",
    "    # Create a dictionary entry for each row of information\n",
    "    state_data_dict = {}\n",
    "    n = 0\n",
    "    \n",
    "    # turn each row into its own dictionary and add that to the big dictionary\n",
    "    for result in results:\n",
    "        state_data = {}\n",
    "        state_data[\"year\"] = result[0]\n",
    "        state_data[\"state\"] = result[1]\n",
    "        state_data[\"month\"] = result[2]\n",
    "        state_data[\"number\"] = result[3]\n",
    "        state_data[\"date\"] = result[4]\n",
    "        state_data_dict[n] = state_data\n",
    "        n += 1\n",
    "    \n",
    "#return that info jsonified\n",
    "    print(state_data_dict)\n",
    "    return jsonify(state_data_dict)\n",
    "\n",
    "if __name__ == \"__main__\":\n",
    "    app.run()\n"
   ]
  },
  {
   "cell_type": "code",
   "execution_count": null,
   "metadata": {},
   "outputs": [],
   "source": []
  }
 ],
 "metadata": {
  "kernelspec": {
   "display_name": "Python 3",
   "language": "python",
   "name": "python3"
  },
  "language_info": {
   "codemirror_mode": {
    "name": "ipython",
    "version": 3
   },
   "file_extension": ".py",
   "mimetype": "text/x-python",
   "name": "python",
   "nbconvert_exporter": "python",
   "pygments_lexer": "ipython3",
   "version": "3.7.3"
  }
 },
 "nbformat": 4,
 "nbformat_minor": 2
}
