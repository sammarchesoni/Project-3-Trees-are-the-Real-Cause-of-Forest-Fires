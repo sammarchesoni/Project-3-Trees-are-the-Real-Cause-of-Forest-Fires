{
 "cells": [
  {
   "cell_type": "code",
   "execution_count": 1,
   "metadata": {},
   "outputs": [],
   "source": [
    "# dependencies\n",
    "import os\n",
    "import pandas as pd\n",
    "import numpy as np\n",
    "import sqlite3\n",
    "import sqlalchemy\n",
    "from sqlalchemy.ext.automap import automap_base\n",
    "from sqlalchemy.orm import Session\n",
    "from sqlalchemy import create_engine\n",
    "from flask import Flask, jsonify, render_template\n",
    "from flask_sqlalchemy import SQLAlchemy"
   ]
  },
  {
   "cell_type": "code",
   "execution_count": 2,
   "metadata": {},
   "outputs": [],
   "source": [
    "#Setup database\n",
    "app = Flask(__name__)\n",
    "# app.config[\"SQLALCHEMY_DATABASE_URI\"] = \"sqlite:///ffdb\"\n",
    "# db = SQLAlchemy(app)\n",
    "ffdb = sqlite3.connect('ffdb')\n",
    "\n",
    "# Pull data from database into a local variable\n",
    "# This would be really unacceptable if our database wasn't basically a tiny little spreadsheet\n",
    "# If complexity increased, it would be very reasonable to tailor select statements to specific requests inside of the functions I call below\n",
    "cursor = ffdb.cursor()\n",
    "cursor.execute('''\n",
    "    SELECT * from fire\n",
    "''')\n",
    "data = cursor.fetchall()"
   ]
  },
  {
   "cell_type": "code",
   "execution_count": 3,
   "metadata": {},
   "outputs": [],
   "source": [
    "# The date fixer function that, frankly, I can't even believe I needed to make\n",
    "def dateFixer(month, year):\n",
    "    portugueseMonths = ['Janeiro', 'Fevereiro', 'Março', 'Abril', 'Maio', 'Junho', 'Julho',\n",
    "       'Agosto', 'Setembro', 'Outubro', 'Novembro', 'Dezembro']\n",
    "    n = 1\n",
    "    monthDictionary = {}\n",
    "    \n",
    "    for monthName in portugueseMonths:\n",
    "        if len(str(n)) == 1:\n",
    "            monthDictionary[monthName] = \"0\" + str(n)\n",
    "        else:\n",
    "            monthDictionary[monthName] = str(n)\n",
    "        n+=1\n",
    "        \n",
    "    date = str(year) + \"-\" + monthDictionary[month] + \"-01\"\n",
    "    return date"
   ]
  },
  {
   "cell_type": "code",
   "execution_count": 4,
   "metadata": {},
   "outputs": [],
   "source": [
    "# a dataframe for your enjoyment\n",
    "df_data = []\n",
    "for row in data:\n",
    "    row = list(row)\n",
    "    row[4] = dateFixer(row[2],row[0])\n",
    "    df_data.append(row)\n",
    "\n",
    "ffdf = pd.DataFrame(df_data, columns=[\"year\",\"state\",\"month\",\"number\",\"date\"])"
   ]
  },
  {
   "cell_type": "code",
   "execution_count": 5,
   "metadata": {},
   "outputs": [],
   "source": [
    "# Dataframe sorting\n",
    "ffdf = ffdf.sort_values(by = \"date\")\n",
    "data_sorted = []\n",
    "for r in ffdf.values:\n",
    "    data_sorted.append(tuple(r))"
   ]
  },
  {
   "cell_type": "code",
   "execution_count": 6,
   "metadata": {},
   "outputs": [],
   "source": [
    "# Dataframe grouping\n",
    "state_fire_df = pd.DataFrame()\n",
    "x = 0\n",
    "state_list = ffdf['state'].tolist()\n",
    "ind_state_list = ffdf['state']\n",
    "ind_state_list = ind_state_list.drop_duplicates()\n",
    "ind_state_list = ind_state_list.tolist()\n",
    "for state in ind_state_list:\n",
    "    x=0\n",
    "    for fire in state_list:\n",
    "        if fire == state:\n",
    "            x=x+1\n",
    "        else:\n",
    "            pass\n",
    "    state_fire_df = state_fire_df.append(pd.DataFrame([{\"State\":state,\"Number of Fires\":x}]))\n",
    "fire_list = state_fire_df[\"Number of Fires\"].to_list()\n",
    "# Use state list from above and firelist for the tuples."
   ]
  },
  {
   "cell_type": "code",
   "execution_count": null,
   "metadata": {},
   "outputs": [
    {
     "name": "stdout",
     "output_type": "stream",
     "text": [
      " * Serving Flask app \"__main__\" (lazy loading)\n",
      " * Environment: production\n",
      "   WARNING: This is a development server. Do not use it in a production deployment.\n",
      "   Use a production WSGI server instead.\n",
      " * Debug mode: off\n"
     ]
    },
    {
     "name": "stderr",
     "output_type": "stream",
     "text": [
      " * Running on http://127.0.0.1:5000/ (Press CTRL+C to quit)\n",
      "127.0.0.1 - - [14/Dec/2019 03:28:09] \"GET / HTTP/1.1\" 200 -\n",
      "127.0.0.1 - - [14/Dec/2019 03:28:09] \"GET /static/js/bonus.js HTTP/1.1\" 304 -\n",
      "127.0.0.1 - - [14/Dec/2019 03:28:09] \"GET /static/js/app.js HTTP/1.1\" 200 -\n",
      "127.0.0.1 - - [14/Dec/2019 03:28:10] \"GET /states HTTP/1.1\" 200 -\n",
      "127.0.0.1 - - [14/Dec/2019 03:28:10] \"GET /state_data/Acre HTTP/1.1\" 200 -\n",
      "127.0.0.1 - - [14/Dec/2019 03:28:10] \"GET /pie/ HTTP/1.1\" 200 -\n"
     ]
    },
    {
     "name": "stdout",
     "output_type": "stream",
     "text": [
      "{0: {'state': 'Acre', 'number': 239}, 1: {'state': 'Paraiba', 'number': 478}, 2: {'state': 'Pará', 'number': 239}, 3: {'state': 'Rio', 'number': 717}, 4: {'state': 'Tocantins', 'number': 239}, 5: {'state': 'Minas Gerais', 'number': 239}, 6: {'state': 'Sergipe', 'number': 239}, 7: {'state': 'Mato Grosso', 'number': 478}, 8: {'state': 'Piau', 'number': 239}, 9: {'state': 'Goias', 'number': 239}, 10: {'state': 'Espirito Santo', 'number': 239}, 11: {'state': 'Alagoas', 'number': 240}, 12: {'state': 'Distrito Federal', 'number': 239}, 13: {'state': 'Roraima', 'number': 239}, 14: {'state': 'Ceara', 'number': 239}, 15: {'state': 'Bahia', 'number': 239}, 16: {'state': 'Santa Catarina', 'number': 239}, 17: {'state': 'Amazonas', 'number': 239}, 18: {'state': 'Amapa', 'number': 239}, 19: {'state': 'Sao Paulo', 'number': 239}, 20: {'state': 'Rondonia', 'number': 239}, 21: {'state': 'Maranhao', 'number': 239}, 22: {'state': 'Pernambuco', 'number': 239}}\n"
     ]
    }
   ],
   "source": [
    "# TO DO\n",
    "# Create a flask app route that gives the necessary JSONified information for making the pie chart work\n",
    "@app.route(\"/pie/\")\n",
    "def pie():\n",
    "    i = 0\n",
    "    pie_dict= {}\n",
    "    for state in ind_state_list:\n",
    "        row = {}\n",
    "        row[\"state\"] = state\n",
    "        row[\"number\"] = fire_list[i]\n",
    "        pie_dict[i] = row\n",
    "        i += 1\n",
    "    print(pie_dict)\n",
    "    return jsonify(pie_dict)\n",
    "\n",
    "@app.route(\"/\")\n",
    "def index():\n",
    "    \"\"\"Return the homepage.\"\"\"\n",
    "    return render_template(\"index.html\")\n",
    "\n",
    "\n",
    "@app.route(\"/states\")\n",
    "def states():\n",
    "    \"\"\"Return a list of sample names.\"\"\"\n",
    "    \n",
    "    return jsonify(['Acre', 'Alagoas', 'Amapa', 'Amazonas', 'Bahia', 'Ceara', 'Distrito Federal', 'Espirito Santo', 'Goias', 'Maranhao', 'Mato Grosso', 'Minas Gerais', 'Pará', 'Paraiba', 'Pernambuco', 'Piau', 'Rio', 'Rondonia', 'Roraima', 'Santa Catarina', 'Sao Paulo', 'Sergipe', 'Tocantins'])\n",
    "\n",
    "\n",
    "@app.route(\"/state_data/<state>\")\n",
    "#  def sample_metadata(sample):\n",
    "def state_data(state):\n",
    "   \n",
    "\n",
    "    \"\"\"Return the Data for a given state.\"\"\"\n",
    "    results = []\n",
    "    for x in data_sorted:\n",
    "        if x[1] == state:\n",
    "            results.append(x)\n",
    "#     print(results)\n",
    "    \n",
    "\n",
    "\n",
    "    # Create a dictionary entry for each row of information\n",
    "    state_data_dict = {}\n",
    "    n = 0\n",
    "    \n",
    "    # turn each row into its own dictionary and add that to the big dictionary\n",
    "    for result in results:\n",
    "        state_data = {}\n",
    "        state_data[\"year\"] = result[0]\n",
    "        state_data[\"state\"] = result[1]\n",
    "        state_data[\"month\"] = result[2]\n",
    "        state_data[\"number\"] = result[3]\n",
    "        state_data[\"date\"] = dateFixer(state_data[\"month\"], state_data[\"year\"])\n",
    "        state_data_dict[n] = state_data\n",
    "        n += 1\n",
    "    \n",
    "#return that info jsonified\n",
    "#     print(state_data_dict)\n",
    "    return jsonify(state_data_dict)\n",
    "\n",
    "if __name__ == \"__main__\":\n",
    "    app.run()"
   ]
  },
  {
   "cell_type": "code",
   "execution_count": null,
   "metadata": {},
   "outputs": [],
   "source": []
  }
 ],
 "metadata": {
  "kernelspec": {
   "display_name": "Python 3",
   "language": "python",
   "name": "python3"
  },
  "language_info": {
   "codemirror_mode": {
    "name": "ipython",
    "version": 3
   },
   "file_extension": ".py",
   "mimetype": "text/x-python",
   "name": "python",
   "nbconvert_exporter": "python",
   "pygments_lexer": "ipython3",
   "version": "3.7.3"
  }
 },
 "nbformat": 4,
 "nbformat_minor": 2
}
