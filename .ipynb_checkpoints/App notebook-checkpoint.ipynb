{
 "cells": [
  {
   "cell_type": "code",
   "execution_count": null,
   "metadata": {},
   "outputs": [],
   "source": [
    "# dependencies\n",
    "import os\n",
    "import pandas as pd\n",
    "import numpy as np\n",
    "import sqlite3\n",
    "import sqlalchemy\n",
    "from sqlalchemy.ext.automap import automap_base\n",
    "from sqlalchemy.orm import Session\n",
    "from sqlalchemy import create_engine\n",
    "from flask import Flask, jsonify, render_template\n",
    "from flask_sqlalchemy import SQLAlchemy"
   ]
  },
  {
   "cell_type": "code",
   "execution_count": null,
   "metadata": {},
   "outputs": [],
   "source": [
    "#Setup database\n",
    "app = Flask(__name__)\n",
    "# app.config[\"SQLALCHEMY_DATABASE_URI\"] = \"sqlite:///ffdb\"\n",
    "# db = SQLAlchemy(app)\n",
    "ffdb = sqlite3.connect('ffdb')\n",
    "\n",
    "# Pull data from database into a local variable\n",
    "# This would be really unacceptable if our database wasn't basically a tiny little spreadsheet\n",
    "# If complexity increased, it would be very reasonable to tailor select statements to specific requests inside of the functions I call below\n",
    "cursor = ffdb.cursor()\n",
    "cursor.execute('''\n",
    "    SELECT * from fire\n",
    "''')\n",
    "data = cursor.fetchall()"
   ]
  },
  {
   "cell_type": "code",
   "execution_count": null,
   "metadata": {},
   "outputs": [],
   "source": [
    "# The date fixer function that, frankly, I can't even believe I needed to make\n",
    "def dateFixer(month, year):\n",
    "    portugueseMonths = ['Janeiro', 'Fevereiro', 'Março', 'Abril', 'Maio', 'Junho', 'Julho',\n",
    "       'Agosto', 'Setembro', 'Outubro', 'Novembro', 'Dezembro']\n",
    "    n = 1\n",
    "    monthDictionary = {}\n",
    "    \n",
    "    for monthName in portugueseMonths:\n",
    "        if len(str(n)) == 1:\n",
    "            monthDictionary[monthName] = \"0\" + str(n)\n",
    "        else:\n",
    "            monthDictionary[monthName] = str(n)\n",
    "        n+=1\n",
    "        \n",
    "    date = str(year) + \"-\" + monthDictionary[month] + \"-01\"\n",
    "    return date"
   ]
  },
  {
   "cell_type": "code",
   "execution_count": null,
   "metadata": {},
   "outputs": [],
   "source": [
    "# a dataframe for your enjoyment\n",
    "df_data = []\n",
    "for row in data:\n",
    "    row = list(row)\n",
    "    row[4] = dateFixer(row[2],row[0])\n",
    "    df_data.append(row)\n",
    "\n",
    "ffdf = pd.DataFrame(df_data, columns=[\"year\",\"state\",\"month\",\"number\",\"date\"])"
   ]
  },
  {
   "cell_type": "code",
   "execution_count": null,
   "metadata": {},
   "outputs": [],
   "source": [
    "# Dataframe sorting\n",
    "ffdf = ffdf.sort_values(by = \"date\")\n",
    "data_sorted = []\n",
    "for r in ffdf.values:\n",
    "    data_sorted.append(tuple(r))"
   ]
  },
  {
   "cell_type": "code",
   "execution_count": null,
   "metadata": {},
   "outputs": [],
   "source": []
  },
  {
   "cell_type": "code",
   "execution_count": null,
   "metadata": {},
   "outputs": [],
   "source": [
    "# TO DO\n",
    "# Create a flask app route that gives the necessary JSONified information for making the pie chart work\n",
    "\n",
    "@app.route(\"/\")\n",
    "def index():\n",
    "    \"\"\"Return the homepage.\"\"\"\n",
    "    return render_template(\"index.html\")\n",
    "\n",
    "\n",
    "@app.route(\"/states\")\n",
    "def states():\n",
    "    \"\"\"Return a list of sample names.\"\"\"\n",
    "    \n",
    "    return jsonify(['Acre', 'Alagoas', 'Amapa', 'Amazonas', 'Bahia', 'Ceara', 'Distrito Federal', 'Espirito Santo', 'Goias', 'Maranhao', 'Mato Grosso', 'Minas Gerais', 'Pará', 'Paraiba', 'Pernambuco', 'Piau', 'Rio', 'Rondonia', 'Roraima', 'Santa Catarina', 'Sao Paulo', 'Sergipe', 'Tocantins'])\n",
    "\n",
    "\n",
    "@app.route(\"/state_data/<state>\")\n",
    "#  def sample_metadata(sample):\n",
    "def state_data(state):\n",
    "   \n",
    "\n",
    "    \"\"\"Return the Data for a given state.\"\"\"\n",
    "    results = []\n",
    "    for x in data_sorted:\n",
    "        if x[1] == state:\n",
    "            results.append(x)\n",
    "#     print(results)\n",
    "    \n",
    "\n",
    "\n",
    "    # Create a dictionary entry for each row of information\n",
    "    state_data_dict = {}\n",
    "    n = 0\n",
    "    \n",
    "    # turn each row into its own dictionary and add that to the big dictionary\n",
    "    for result in results:\n",
    "        state_data = {}\n",
    "        state_data[\"year\"] = result[0]\n",
    "        state_data[\"state\"] = result[1]\n",
    "        state_data[\"month\"] = result[2]\n",
    "        state_data[\"number\"] = result[3]\n",
    "        state_data[\"date\"] = dateFixer(state_data[\"month\"], state_data[\"year\"])\n",
    "        state_data_dict[n] = state_data\n",
    "        n += 1\n",
    "    \n",
    "#return that info jsonified\n",
    "    print(state_data_dict)\n",
    "    return jsonify(state_data_dict)\n",
    "\n",
    "if __name__ == \"__main__\":\n",
    "    app.run()"
   ]
  },
  {
   "cell_type": "code",
   "execution_count": null,
   "metadata": {},
   "outputs": [],
   "source": []
  }
 ],
 "metadata": {
  "kernelspec": {
   "display_name": "Python 3",
   "language": "python",
   "name": "python3"
  },
  "language_info": {
   "codemirror_mode": {
    "name": "ipython",
    "version": 3
   },
   "file_extension": ".py",
   "mimetype": "text/x-python",
   "name": "python",
   "nbconvert_exporter": "python",
   "pygments_lexer": "ipython3",
   "version": "3.7.3"
  }
 },
 "nbformat": 4,
 "nbformat_minor": 2
}
